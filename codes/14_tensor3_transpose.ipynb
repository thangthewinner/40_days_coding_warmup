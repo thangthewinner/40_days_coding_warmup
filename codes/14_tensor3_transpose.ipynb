{
 "cells": [
  {
   "cell_type": "code",
   "execution_count": 2,
   "metadata": {},
   "outputs": [],
   "source": [
    "import numpy as np\n",
    "np.random.seed(2024)\n",
    "import torch\n",
    "torch.manual_seed(2024)\n",
    "import tensorflow as tf\n",
    "tf.random.set_seed(2024)"
   ]
  },
  {
   "cell_type": "markdown",
   "metadata": {},
   "source": [
    "- Câu 1: Viết chương trình tạo hai Numpy array, Pytorch tensor, Tensorflow tensor với các giá trị số nguyên ngẫu nhiên trong khoảng [-10, 10) với kích thước (3, 4). Sau đó chuyển vị array, tensor thứ 2 và thực hiện phép nhân matrix multiplication. Lưu ý: sử dụng seed=2024"
   ]
  },
  {
   "cell_type": "code",
   "execution_count": 4,
   "metadata": {},
   "outputs": [
    {
     "name": "stdout",
     "output_type": "stream",
     "text": [
      "array 1:\n",
      " [[  9  -6  -2   8]\n",
      " [ -9   0  -3   6]\n",
      " [ -2   3 -10 -10]]\n",
      "array 2:\n",
      " [[ 1  3 -4  1]\n",
      " [ 6  5 -4 -3]\n",
      " [-2  3  6 -2]]\n",
      "array 2 sau khi chuyển vị:\n",
      " [[ 1  6 -2]\n",
      " [ 3  5  3]\n",
      " [-4 -4  6]\n",
      " [ 1 -3 -2]]\n",
      "Kết quả phép nhân arr_1 với  arr_2:\n",
      " [[  7   8 -64]\n",
      " [  9 -60 -12]\n",
      " [ 37  73 -27]]\n"
     ]
    }
   ],
   "source": [
    "arr_1 = np.random.randint(-10, 10, (3, 4))\n",
    "arr_2 = np.random.randint(-10, 10, (3, 4))\n",
    "\n",
    "arr_2_transposed = np.transpose(arr_2)\n",
    "\n",
    "result_matmul = np.matmul(arr_1, arr_2_transposed)\n",
    "\n",
    "print(\"array 1:\\n\", arr_1)\n",
    "print(\"array 2:\\n\", arr_2)\n",
    "print(\"array 2 sau khi chuyển vị:\\n\", arr_2_transposed)\n",
    "print(\"Kết quả phép nhân arr_1 với  arr_2:\\n\", result_matmul )"
   ]
  },
  {
   "cell_type": "code",
   "execution_count": 8,
   "metadata": {},
   "outputs": [
    {
     "name": "stdout",
     "output_type": "stream",
     "text": [
      "array 1:\n",
      " tensor([[ -3,   4,  -4,  -3],\n",
      "        [ -3, -10,  -3,  -4],\n",
      "        [  5,  -3,  -6,   3]])\n",
      "array 2:\n",
      " tensor([[-1,  4,  4,  2],\n",
      "        [-2, -6,  7,  9],\n",
      "        [ 3, -2,  3,  3]])\n",
      "array 2 sau khi chuyển vị:\n",
      " tensor([[-1, -2,  3],\n",
      "        [ 4, -6, -2],\n",
      "        [ 4,  7,  3],\n",
      "        [ 2,  9,  3]])\n",
      "Kết quả phép nhân arr_1 với  arr_2:\n",
      " tensor([[ -3, -73, -38],\n",
      "        [-57,   9, -10],\n",
      "        [-35,  -7,  12]])\n"
     ]
    }
   ],
   "source": [
    "tensor_1 = torch.randint(-10, 10, (3, 4))\n",
    "tensor_2 = torch.randint(-10, 10, (3, 4))\n",
    "\n",
    "tensor_2_transposed = tensor_2.T\n",
    "\n",
    "result_matmul = torch.matmul(tensor_1, tensor_2_transposed)\n",
    "\n",
    "print(\"array 1:\\n\", tensor_1)\n",
    "print(\"array 2:\\n\", tensor_2)\n",
    "print(\"array 2 sau khi chuyển vị:\\n\", tensor_2_transposed)\n",
    "print(\"Kết quả phép nhân arr_1 với  arr_2:\\n\", result_matmul )"
   ]
  },
  {
   "cell_type": "code",
   "execution_count": 9,
   "metadata": {},
   "outputs": [
    {
     "name": "stdout",
     "output_type": "stream",
     "text": [
      "array 1:\n",
      " tf.Tensor(\n",
      "[[-6 -2  0 -2]\n",
      " [ 4  4 -9  3]\n",
      " [ 7  1  2 -5]], shape=(3, 4), dtype=int32)\n",
      "array 2:\n",
      " tf.Tensor(\n",
      "[[-3 -7  9  3]\n",
      " [ 2 -5 -3 -5]\n",
      " [ 4 -3 -3  5]], shape=(3, 4), dtype=int32)\n",
      "array 2 sau khi chuyển vị:\n",
      " tf.Tensor(\n",
      "[[-3  2  4]\n",
      " [-7 -5 -3]\n",
      " [ 9 -3 -3]\n",
      " [ 3 -5  5]], shape=(4, 3), dtype=int32)\n",
      "Kết quả phép nhân arr_1 với  arr_2:\n",
      " tf.Tensor(\n",
      "[[  26    8  -28]\n",
      " [-112    0   46]\n",
      " [ -25   28   -6]], shape=(3, 3), dtype=int32)\n"
     ]
    }
   ],
   "source": [
    "tensor_1 = tf.random.uniform((3, 4), minval=-10, maxval=10, dtype=tf.dtypes.int32)\n",
    "tensor_2 = tf.random.uniform((3, 4), minval=-10, maxval=10, dtype=tf.dtypes.int32)\n",
    "\n",
    "tensor_2_transposed = tf.transpose(tensor_2)\n",
    "\n",
    "result_matmul = tf.matmul(tensor_1, tensor_2_transposed)\n",
    "\n",
    "print(\"array 1:\\n\", tensor_1)\n",
    "print(\"array 2:\\n\", tensor_2)\n",
    "print(\"array 2 sau khi chuyển vị:\\n\", tensor_2_transposed)\n",
    "print(\"Kết quả phép nhân arr_1 với  arr_2:\\n\", result_matmul )"
   ]
  },
  {
   "cell_type": "markdown",
   "metadata": {},
   "source": [
    "- Câu 2: Viết chương trình tạo một Numpy array, Pytorch tensor, Tensorflow tensor với các giá trị số nguyên ngẫu nhiên trong khoảng [-10, 10) với kích thước (3, 3). Sau đó hãy tính tổng của toàn bộ tensor, array, tiếp theo tính tổng theo chiều dọc, chiều ngang . Lưu ý: sử dụng seed=2024"
   ]
  },
  {
   "cell_type": "code",
   "execution_count": 11,
   "metadata": {},
   "outputs": [
    {
     "name": "stdout",
     "output_type": "stream",
     "text": [
      "Mảng:\n",
      " [[-3  8  1]\n",
      " [ 8  3 -8]\n",
      " [-1 -2 -7]]\n",
      "Tổng của tất cả các phần tử trong mảng:\n",
      " -1\n",
      "Tổng theo cột:\n",
      " [  4   9 -14]\n",
      "Tổng theo hàng:\n",
      " [  6   3 -10]\n"
     ]
    }
   ],
   "source": [
    "arr = np.random.randint(-10, 10, (3, 3 ))\n",
    "\n",
    "total_sum = np.sum(arr)\n",
    "\n",
    "col_sum = np.sum(arr, axis=0)\n",
    "\n",
    "row_sum = np.sum(arr, axis=-1)\n",
    "\n",
    "print(\"Mảng:\\n\", arr)\n",
    "print(\"Tổng của tất cả các phần tử trong mảng:\\n\", total_sum)\n",
    "print(\"Tổng theo cột:\\n\", col_sum)\n",
    "print(\"Tổng theo hàng:\\n\", row_sum)"
   ]
  },
  {
   "cell_type": "code",
   "execution_count": 12,
   "metadata": {},
   "outputs": [
    {
     "name": "stdout",
     "output_type": "stream",
     "text": [
      "tensor:\n",
      " tensor([[-9,  3, -2],\n",
      "        [-6,  7, -7],\n",
      "        [ 8, -3,  0]])\n",
      "Tổng các phần tử trong tensor:\n",
      " tensor(-9)\n",
      "Tổng theo cột:\n",
      " tensor([-7,  7, -9])\n",
      "Tổng theo hàng:\n",
      " tensor([-8, -6,  5])\n"
     ]
    }
   ],
   "source": [
    "tensor_1 = torch.randint(-10, 10, size=(3, 3))\n",
    "\n",
    "tensor_sum = torch.sum(tensor_1)\n",
    "\n",
    "tensor_sum_axis_0 = torch.sum(tensor_1, axis=0)\n",
    "\n",
    "tensor_sum_axis_1 = torch.sum(tensor_1, axis=1)\n",
    "\n",
    "print(\"tensor:\\n\", tensor_1)\n",
    "print(\"Tổng các phần tử trong tensor:\\n\", tensor_sum)\n",
    "print(\"Tổng theo cột:\\n\", tensor_sum_axis_0)\n",
    "print(\"Tổng theo hàng:\\n\", tensor_sum_axis_1)"
   ]
  },
  {
   "cell_type": "code",
   "execution_count": 13,
   "metadata": {},
   "outputs": [
    {
     "name": "stdout",
     "output_type": "stream",
     "text": [
      "tensor:\n",
      " tf.Tensor(\n",
      "[[ 2  6 -6]\n",
      " [ 4 -9  3]\n",
      " [ 8  0  3]], shape=(3, 3), dtype=int32)\n",
      "Tổng các phần tử trong tensor:\n",
      " tf.Tensor(11, shape=(), dtype=int32)\n",
      "Tổng theo cột:\n",
      " tf.Tensor([14 -3  0], shape=(3,), dtype=int32)\n",
      "Tổng theo hàng:\n",
      " tf.Tensor([ 2 -2 11], shape=(3,), dtype=int32)\n"
     ]
    }
   ],
   "source": [
    "tensor_1 = tf.random.uniform((3, 3), minval=-10, maxval=10, dtype=tf.dtypes.int32)\n",
    "\n",
    "tensor_sum = tf.reduce_sum(tensor_1)\n",
    "\n",
    "tensor_sum_axis_0 = tf.reduce_sum(tensor_1, axis=0)\n",
    "\n",
    "tensor_sum_axis_1 = tf.reduce_sum(tensor_1, axis=1)\n",
    "\n",
    "print(\"tensor:\\n\", tensor_1)\n",
    "print(\"Tổng các phần tử trong tensor:\\n\", tensor_sum)\n",
    "print(\"Tổng theo cột:\\n\", tensor_sum_axis_0)\n",
    "print(\"Tổng theo hàng:\\n\", tensor_sum_axis_1)"
   ]
  },
  {
   "cell_type": "code",
   "execution_count": null,
   "metadata": {},
   "outputs": [],
   "source": []
  }
 ],
 "metadata": {
  "kernelspec": {
   "display_name": "warmup",
   "language": "python",
   "name": "python3"
  },
  "language_info": {
   "codemirror_mode": {
    "name": "ipython",
    "version": 3
   },
   "file_extension": ".py",
   "mimetype": "text/x-python",
   "name": "python",
   "nbconvert_exporter": "python",
   "pygments_lexer": "ipython3",
   "version": "3.10.11"
  }
 },
 "nbformat": 4,
 "nbformat_minor": 2
}
