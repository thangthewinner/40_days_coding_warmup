{
 "cells": [
  {
   "cell_type": "markdown",
   "metadata": {},
   "source": [
    "- Câu 1: Tạo mới một List có tên là lst_data, gồm các số từ 1 đến 10."
   ]
  },
  {
   "cell_type": "code",
   "execution_count": 1,
   "metadata": {},
   "outputs": [
    {
     "data": {
      "text/plain": [
       "[1, 2, 3, 4, 5, 6, 7, 8, 9, 10]"
      ]
     },
     "execution_count": 1,
     "metadata": {},
     "output_type": "execute_result"
    }
   ],
   "source": [
    "lst_data = []\n",
    "\n",
    "for i in range(1, 11):\n",
    "    lst_data.append(i)\n",
    "\n",
    "lst_data"
   ]
  },
  {
   "cell_type": "markdown",
   "metadata": {},
   "source": [
    "- Câu 2: Tính giá trị trung vị từ lst_data vừa tạo. (Không sử dụng numpy)"
   ]
  },
  {
   "cell_type": "code",
   "execution_count": 4,
   "metadata": {},
   "outputs": [],
   "source": [
    "def calculate_median(numbers):\n",
    "    n = len(numbers)\n",
    "    sorted_list = sorted(numbers)\n",
    "\n",
    "    if n % 2 == 0:\n",
    "        return (sorted_list[n // 2] + sorted_list[n // 2 - 1]) / 2\n",
    "    else:\n",
    "        return sorted_list[n // 2]"
   ]
  },
  {
   "cell_type": "code",
   "execution_count": 5,
   "metadata": {},
   "outputs": [
    {
     "data": {
      "text/plain": [
       "5.5"
      ]
     },
     "execution_count": 5,
     "metadata": {},
     "output_type": "execute_result"
    }
   ],
   "source": [
    "median = calculate_median(lst_data)\n",
    "median"
   ]
  },
  {
   "cell_type": "markdown",
   "metadata": {},
   "source": [
    " - Câu 3: Lọc các giá trị số lẻ trong lst_data và lưu ra list mới có tên là: lst_odd_filter với thứ tự giảm dần ( Sử dụng phương thức reverse=True trong hàm sort/sorted)."
   ]
  },
  {
   "cell_type": "code",
   "execution_count": 6,
   "metadata": {},
   "outputs": [
    {
     "data": {
      "text/plain": [
       "[9, 7, 5, 3, 1]"
      ]
     },
     "execution_count": 6,
     "metadata": {},
     "output_type": "execute_result"
    }
   ],
   "source": [
    "lst_odd_filter = []\n",
    "\n",
    "for item in lst_data:\n",
    "    if (item % 2 != 0):\n",
    "        lst_odd_filter.append(item)\n",
    "\n",
    "lst_odd_filter.sort(reverse=True)\n",
    "\n",
    "lst_odd_filter"
   ]
  },
  {
   "cell_type": "code",
   "execution_count": null,
   "metadata": {},
   "outputs": [],
   "source": []
  }
 ],
 "metadata": {
  "kernelspec": {
   "display_name": "warmup",
   "language": "python",
   "name": "python3"
  },
  "language_info": {
   "codemirror_mode": {
    "name": "ipython",
    "version": 3
   },
   "file_extension": ".py",
   "mimetype": "text/x-python",
   "name": "python",
   "nbconvert_exporter": "python",
   "pygments_lexer": "ipython3",
   "version": "3.10.11"
  }
 },
 "nbformat": 4,
 "nbformat_minor": 2
}
