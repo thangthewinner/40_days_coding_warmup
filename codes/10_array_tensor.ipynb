{
 "cells": [
  {
   "cell_type": "markdown",
   "metadata": {},
   "source": [
    "- Câu 1: Hãy viết chương trình tạo Numpy array, Tensorflow tensor, Pytorch tensor từ danh sách 1 chiều?"
   ]
  },
  {
   "cell_type": "code",
   "execution_count": 3,
   "metadata": {},
   "outputs": [],
   "source": [
    "import numpy as np\n",
    "import tensorflow as tf \n",
    "import torch"
   ]
  },
  {
   "cell_type": "code",
   "execution_count": 4,
   "metadata": {},
   "outputs": [],
   "source": [
    "list_1D = [1,2,3,4,5,6,7,8,9]"
   ]
  },
  {
   "cell_type": "code",
   "execution_count": 5,
   "metadata": {},
   "outputs": [
    {
     "name": "stdout",
     "output_type": "stream",
     "text": [
      "Mảng 1 chiều Numpy:\n",
      " [1 2 3 4 5 6 7 8 9] <class 'numpy.ndarray'>\n"
     ]
    }
   ],
   "source": [
    "arr_1D = np.array(list_1D)\n",
    "print(\"Mảng 1 chiều Numpy:\\n\", arr_1D, type(arr_1D))"
   ]
  },
  {
   "cell_type": "code",
   "execution_count": 6,
   "metadata": {},
   "outputs": [
    {
     "name": "stdout",
     "output_type": "stream",
     "text": [
      "Mảng 1 chiều Pytorch:\n",
      " tensor([1, 2, 3, 4, 5, 6, 7, 8, 9]) <class 'torch.Tensor'>\n"
     ]
    }
   ],
   "source": [
    "arr_1D = torch.tensor(list_1D)\n",
    "print(\"Mảng 1 chiều Pytorch:\\n\", arr_1D, type(arr_1D))"
   ]
  },
  {
   "cell_type": "code",
   "execution_count": 9,
   "metadata": {},
   "outputs": [
    {
     "name": "stdout",
     "output_type": "stream",
     "text": [
      "Mảng 1 chiều Tensorflow:\n",
      " tf.Tensor([1 2 3 4 5 6 7 8 9], shape=(9,), dtype=int32) <class 'tensorflow.python.framework.ops.EagerTensor'>\n"
     ]
    }
   ],
   "source": [
    "arr_1D = tf.convert_to_tensor(list_1D)\n",
    "print(\"Mảng 1 chiều Tensorflow:\\n\", arr_1D, type(arr_1D))"
   ]
  },
  {
   "cell_type": "markdown",
   "metadata": {},
   "source": [
    "- Câu 2: Hãy viết chương trình tạo Numpy array, Tensorflow tensor, Pytorch tensor từ danh sách 2 chiều. Sau |đó thực hiện kiểm tra thuộc tính shape, dtype, type, device từ các array, tensor vừa tạo ?"
   ]
  },
  {
   "cell_type": "code",
   "execution_count": 10,
   "metadata": {},
   "outputs": [
    {
     "name": "stdout",
     "output_type": "stream",
     "text": [
      "Hình dạng của tensor:  torch.Size([3, 3])\n",
      "Kiểu dữ liệu của tensor:  torch.int64\n",
      "Loại của tensor:  <class 'torch.Tensor'>\n",
      "Thiết bị lưu trữ của tensor:  cpu\n",
      "Tensor:\n",
      " tensor([[1, 2, 3],\n",
      "        [4, 5, 6],\n",
      "        [7, 8, 9]])\n"
     ]
    }
   ],
   "source": [
    "# Tạo một danh sách 2 chiều\n",
    "list_2D = [[1, 2, 3], [4, 5, 6], [7, 8, 9]]\n",
    "# Tạo một tensor 2 chiều\n",
    "tensor_2D_pt = torch.tensor(list_2D)\n",
    "\n",
    "# Kiểm tra hình dạng, kiểu dữ liệu, loại, thiết bị lưu trữ của tensor\n",
    "print(\"Hình dạng của tensor: \", tensor_2D_pt.shape)\n",
    "print(\"Kiểu dữ liệu của tensor: \", tensor_2D_pt.dtype)\n",
    "print(\"Loại của tensor: \", type(tensor_2D_pt))\n",
    "print(\"Thiết bị lưu trữ của tensor: \", tensor_2D_pt.device)\n",
    "print(\"Tensor:\\n\", tensor_2D_pt)"
   ]
  },
  {
   "cell_type": "code",
   "execution_count": 11,
   "metadata": {},
   "outputs": [
    {
     "name": "stdout",
     "output_type": "stream",
     "text": [
      "Hình dạng của tensor:  (3, 3)\n",
      "Kiểu dữ liệu của tensor:  <dtype: 'int32'>\n",
      "Loại của tensor:  <class 'tensorflow.python.framework.ops.EagerTensor'>\n",
      "Thiết bị mà tensor được lưu trữ:  /job:localhost/replica:0/task:0/device:GPU:0\n",
      "tf.Tensor(\n",
      "[[1 2 3]\n",
      " [4 5 6]\n",
      " [7 8 9]], shape=(3, 3), dtype=int32)\n"
     ]
    }
   ],
   "source": [
    "# Tạo một danh sách 2 chiều\n",
    "list_2D = [[1, 2, 3], [4, 5, 6], [7, 8, 9]]\n",
    "# Tạo một tensor 2 chiều từ danh sách\n",
    "tensor_2D_tf = tf.convert_to_tensor(list_2D)\n",
    "\n",
    "# Kiểm tra hình dạng, kiểu dữ liệu, loại, thiết bị mà tensor được lưu trữ\n",
    "print(\"Hình dạng của tensor: \", tensor_2D_tf.shape)\n",
    "print(\"Kiểu dữ liệu của tensor: \", tensor_2D_tf.dtype)\n",
    "print(\"Loại của tensor: \", type(tensor_2D_tf))\n",
    "print(\"Thiết bị mà tensor được lưu trữ: \", tensor_2D_tf.device)\n",
    "print(tensor_2D_tf)"
   ]
  },
  {
   "cell_type": "code",
   "execution_count": null,
   "metadata": {},
   "outputs": [],
   "source": []
  }
 ],
 "metadata": {
  "kernelspec": {
   "display_name": "warmup",
   "language": "python",
   "name": "python3"
  },
  "language_info": {
   "codemirror_mode": {
    "name": "ipython",
    "version": 3
   },
   "file_extension": ".py",
   "mimetype": "text/x-python",
   "name": "python",
   "nbconvert_exporter": "python",
   "pygments_lexer": "ipython3",
   "version": "3.10.11"
  }
 },
 "nbformat": 4,
 "nbformat_minor": 2
}
