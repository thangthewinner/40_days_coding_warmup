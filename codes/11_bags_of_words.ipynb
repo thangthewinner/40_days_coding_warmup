{
 "cells": [
  {
   "cell_type": "code",
   "execution_count": 21,
   "metadata": {},
   "outputs": [
    {
     "data": {
      "text/plain": [
       "'Tôi thích môn Toán Tôi thích AI Tôi thích âm nhạc'"
      ]
     },
     "execution_count": 21,
     "metadata": {},
     "output_type": "execute_result"
    }
   ],
   "source": [
    "corpus = [\"Tôi thích môn Toán\", \"Tôi thích AI\", \"Tôi thích âm nhạc\"]\n",
    "data = ' '.join(corpus)\n",
    "data"
   ]
  },
  {
   "cell_type": "code",
   "execution_count": null,
   "metadata": {},
   "outputs": [
    {
     "data": {
      "text/plain": [
       "['âm', 'Tôi', 'Toán', 'nhạc', 'môn', 'thích', 'AI']"
      ]
     },
     "execution_count": 22,
     "metadata": {},
     "output_type": "execute_result"
    }
   ],
   "source": [
    "distinct_words = list(set(data.split()))\n",
    "length = len(distinct_words)\n",
    "\n",
    "distinct_words"
   ]
  },
  {
   "cell_type": "code",
   "execution_count": null,
   "metadata": {},
   "outputs": [
    {
     "name": "stdout",
     "output_type": "stream",
     "text": [
      "0 âm\n",
      "1 Tôi\n",
      "2 Toán\n",
      "3 nhạc\n",
      "4 môn\n",
      "5 thích\n",
      "6 AI\n"
     ]
    }
   ],
   "source": [
    "for i, word in enumerate(distinct_words):\n",
    "    print(i, word)"
   ]
  },
  {
   "cell_type": "code",
   "execution_count": 25,
   "metadata": {},
   "outputs": [
    {
     "name": "stdout",
     "output_type": "stream",
     "text": [
      "[0, 1, 1, 0, 0, 2, 1]\n"
     ]
    }
   ],
   "source": [
    "sample = \"Tôi thích AI thích Toán\"\n",
    "sample_vec = [0]*length\n",
    "sample_words = sample.split()\n",
    "for word in sample_words:\n",
    "    sample_vec[distinct_words.index(word)] += 1\n",
    "print(sample_vec)"
   ]
  }
 ],
 "metadata": {
  "kernelspec": {
   "display_name": "warmup",
   "language": "python",
   "name": "python3"
  },
  "language_info": {
   "codemirror_mode": {
    "name": "ipython",
    "version": 3
   },
   "file_extension": ".py",
   "mimetype": "text/x-python",
   "name": "python",
   "nbconvert_exporter": "python",
   "pygments_lexer": "ipython3",
   "version": "3.10.11"
  }
 },
 "nbformat": 4,
 "nbformat_minor": 2
}
