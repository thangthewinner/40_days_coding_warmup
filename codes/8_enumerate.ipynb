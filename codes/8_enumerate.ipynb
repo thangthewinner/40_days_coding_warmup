{
 "cells": [
  {
   "cell_type": "markdown",
   "metadata": {},
   "source": [
    "# Enumerate\n",
    "\n",
    "`enumerate` là một hàm tích hợp sẵn trong Python cho phép bạn liệt kê qua một chuỗi (list, tuple, hoặc bất kỳ iterable object nào khác) cùng với chỉ số của mỗi phần tử. Giúp dễ dàng thực hiện vòng lặp qua các phần tử trong chuỗi đồng thời lấy được cả chỉ số của phần tử.\n",
    "\n",
    "Cú pháp: `enumerate(iterable, start=0)`\n",
    "* iterable: Đối tượng có thể lặp qua như list, tuple, hoặc chuỗi.\n",
    "* start (tùy chọn): Chỉ định chỉ số bắt đầu của enumerate. Mặc định là 0."
   ]
  },
  {
   "cell_type": "markdown",
   "metadata": {},
   "source": [
    "--- \n",
    "## Bài 1:\n",
    "\n",
    "Giả sử bạn có một danh sách mua sắm và bạn muốn đánh số thứ tự của từng món đồ trong danh sách đó để dễ dàng thực hiện việc mua sắm:\n",
    "\n",
    "---"
   ]
  },
  {
   "cell_type": "code",
   "execution_count": 2,
   "metadata": {},
   "outputs": [
    {
     "name": "stdout",
     "output_type": "stream",
     "text": [
      "Danh sách mua sắm:\n",
      "1. Cà rốt\n",
      "2. Táo\n",
      "3. Sữa\n"
     ]
    }
   ],
   "source": [
    "shopping_list = [\"Cà rốt\", \"Táo\", \"Sữa\"]\n",
    "\n",
    "print(\"Danh sách mua sắm:\")\n",
    "for index in range(len(shopping_list)):\n",
    "    print(f\"{index+1}. {shopping_list[index]}\")"
   ]
  },
  {
   "cell_type": "code",
   "execution_count": 3,
   "metadata": {},
   "outputs": [
    {
     "name": "stdout",
     "output_type": "stream",
     "text": [
      "Danh sách mua sắm:\n",
      "1. Cà rốt\n",
      "2. Táo\n",
      "3. Sữa\n"
     ]
    }
   ],
   "source": [
    "shopping_list = [\"Cà rốt\", \"Táo\", \"Sữa\"]\n",
    "\n",
    "print(\"Danh sách mua sắm:\")\n",
    "for index, item in enumerate(shopping_list, start=1):\n",
    "    print(f\"{index}. {item}\")"
   ]
  },
  {
   "cell_type": "markdown",
   "metadata": {},
   "source": [
    "---\n",
    "\n",
    "## Bài 2\n",
    "\n",
    "Viết một chương trình Python để tìm kiếm và in ra vị trí của một số mặt hàng trong một danh sách thực phẩm hai chiều.\n",
    "\n",
    "Danh sách thực phẩm được biểu diễn dưới dạng một list hai chiều, trong đó mỗi hàng chứa thông tin về các mặt hàng có sẵn trong cửa hàng. \n",
    "\n",
    "Yêu cầu của bạn là tìm kiếm và in ra vị trí của mỗi mặt hàng trong danh sách tìm kiếm trong danh sách thực phẩm. Chương trình cần in ra hàng và cột của từng mặt hàng được tìm thấy.\n",
    "\n",
    "Dưới đây là danh sách thực phẩm:\n",
    "\n",
    "```python\n",
    "food_list = [\n",
    "    [\"Bơ\", \"Pizza\", \"Sữa\"],\n",
    "    [\"Xúc xích\", \"Táo\", \"Kem\"],\n",
    "    [\"Cà rốt\", \"Bánh dâu\", \"Cupcake\"]\n",
    "]\n",
    "```\n",
    "\n",
    "Các mặt hàng cần tìm kiếm có trong danh sách sau:\n",
    "\n",
    "```python\n",
    "search_items = [\"Cà rốt\", \"Táo\", \"Sữa\"]\n",
    "```\n",
    "\n",
    "Hãy viết chương trình để thực hiện nhiệm vụ trên. Chú ý rằng chỉ số hàng và cột bắt đầu từ 1.\n",
    "\n",
    "Gợi ý: Sử dụng vòng lặp để duyệt qua từng phần tử trong danh sách thực phẩm, sau đó kiểm tra xem mỗi mặt hàng có trong danh sách tìm kiếm không. Nếu có, in ra vị trí của mặt hàng đó. Để truy cập hàng và cột của từng mặt hàng, bạn có thể sử dụng vòng lặp `for` hoặc hàm `enumerate`.\n",
    "\n",
    "---"
   ]
  },
  {
   "cell_type": "code",
   "execution_count": 4,
   "metadata": {},
   "outputs": [],
   "source": [
    "food_list = [\n",
    "    [\"Bơ\", \"Pizza\", \"Sữa\"],\n",
    "    [\"Xúc xích\", \"Táo\", \"Kem\"],\n",
    "    [\"Cà rốt\", \"Bánh dâu\", \"Cupcake\"]\n",
    "]\n",
    "\n",
    "search_itmes = [\"Cà rốt\", \"Táo\", \"Sữa\"]"
   ]
  },
  {
   "cell_type": "code",
   "execution_count": 5,
   "metadata": {},
   "outputs": [
    {
     "name": "stdout",
     "output_type": "stream",
     "text": [
      "Sữa được tìm thấy ở hàng 1 và cột 3\n",
      "Táo được tìm thấy ở hàng 2 và cột 2\n",
      "Cà rốt được tìm thấy ở hàng 3 và cột 1\n"
     ]
    }
   ],
   "source": [
    "for i in range(len(food_list)):\n",
    "    for j in range(len(food_list[i])):\n",
    "        if food_list[i][j]  in search_itmes:\n",
    "            print(f'{food_list[i][j]} được tìm thấy ở hàng {i+1} và cột {j+1}')"
   ]
  },
  {
   "cell_type": "code",
   "execution_count": 6,
   "metadata": {},
   "outputs": [
    {
     "name": "stdout",
     "output_type": "stream",
     "text": [
      "Sữa được tìm thấy ở hàng 1 và cột 3\n",
      "Táo được tìm thấy ở hàng 2 và cột 2\n",
      "Cà rốt được tìm thấy ở hàng 3 và cột 1\n"
     ]
    }
   ],
   "source": [
    "for i, row in enumerate(food_list, start=1):\n",
    "    for j, item in enumerate(row, start=1):\n",
    "        if item in search_itmes:\n",
    "            print(f'{item} được tìm thấy ở hàng {i} và cột {j}')"
   ]
  },
  {
   "cell_type": "code",
   "execution_count": null,
   "metadata": {},
   "outputs": [],
   "source": []
  }
 ],
 "metadata": {
  "kernelspec": {
   "display_name": "warmup",
   "language": "python",
   "name": "python3"
  },
  "language_info": {
   "codemirror_mode": {
    "name": "ipython",
    "version": 3
   },
   "file_extension": ".py",
   "mimetype": "text/x-python",
   "name": "python",
   "nbconvert_exporter": "python",
   "pygments_lexer": "ipython3",
   "version": "3.10.11"
  }
 },
 "nbformat": 4,
 "nbformat_minor": 2
}
