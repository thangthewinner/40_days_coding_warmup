{
 "cells": [
  {
   "cell_type": "markdown",
   "metadata": {},
   "source": [
    "# Basic Python - If-Else"
   ]
  },
  {
   "cell_type": "markdown",
   "metadata": {},
   "source": [
    "## Tính Lịch Can Chi\n",
    "\n",
    "### 1. Mô tả  \n",
    "- **Can Chi** là một hệ thống tính toán giờ, ngày, tháng, năm âm lịch của người Trung Quốc cổ đại.  \n",
    "- Can Chi bao gồm **10 Thiên Can** và **12 Địa Chi**.\n",
    "\n",
    "#### **Thiên Can** (10 Can)  \n",
    "| Phần dư | 0  | 1  | 2  | 3  | 4  | 5  | 6  | 7  | 8  | 9  |\n",
    "|---------|----|----|----|----|----|----|----|----|----|----|\n",
    "| **Can** | Canh | Tân | Nhâm | Quý | Giáp | Ất | Bính | Đinh | Mậu | Kỷ |\n",
    "\n",
    "#### **Địa Chi** (12 Chi)  \n",
    "| Phần dư | 0  | 1  | 2  | 3  | 4  | 5  | 6  | 7  | 8  | 9  | 10 | 11 |\n",
    "|---------|----|----|----|----|----|----|----|----|----|----|----|----|\n",
    "| **Chi** | Thân | Dậu | Tuất | Hợi | Tý | Sửu | Dần | Mão | Thìn | Tỵ | Ngọ | Mùi |\n",
    "\n",
    "---\n",
    "\n",
    "### 2. Bài tập: Tính lịch Can Chi (Làm quen với câu lệnh `if/else`)\n",
    "\n",
    "#### **Quy tắc tính Can Chi**  \n",
    "1. **Tính Can**  \n",
    "   - Lấy năm sinh chia cho 10 và lấy phần dư.  \n",
    "   - Dựa vào bảng trên để xác định Thiên Can tương ứng.  \n",
    "\n",
    "2. **Tính Chi**  \n",
    "   - Lấy năm sinh chia cho 12 và lấy phần dư.  \n",
    "   - Dựa vào bảng trên để xác định Địa Chi tương ứng.  \n",
    "\n",
    "#### **Ví dụ:**  \n",
    "Nếu năm sinh là **2024**, ta có:  \n",
    "- Can = `2024 % 10 = 4` → **Giáp**  \n",
    "- Chi = `2024 % 12 = 8` → **Thìn**  \n",
    "\n",
    "--> **Năm 2024 có Can Chi là \"Giáp Thìn\"**.\n"
   ]
  },
  {
   "cell_type": "code",
   "execution_count": 2,
   "metadata": {},
   "outputs": [],
   "source": [
    "def calculate_can_chi_calendar(year):\n",
    "    can = ['Canh', 'Tân', 'Nhâm', 'Quý', 'Giáp', 'Ất', 'Bính', 'Đinh', 'Mậu', 'Kỳ']\n",
    "    chi = ['Thân', 'Dậu', 'Thuất', 'Hợi', 'Tý', 'Sửu', 'Dần', 'Mão', 'Thìn', 'Tỵ', 'Ngọ', 'Mùi']\n",
    "\n",
    "    can_idx = year % 10\n",
    "    chi_idx = year % 12\n",
    "\n",
    "    result = f'{can[can_idx]} {chi[chi_idx]}'\n",
    "\n",
    "    return result\n"
   ]
  },
  {
   "cell_type": "code",
   "execution_count": 3,
   "metadata": {},
   "outputs": [
    {
     "name": "stdout",
     "output_type": "stream",
     "text": [
      "2025: Ất Tỵ\n"
     ]
    }
   ],
   "source": [
    "year = 2025\n",
    "\n",
    "print(f'{year}: {calculate_can_chi_calendar(year)}')"
   ]
  },
  {
   "cell_type": "code",
   "execution_count": null,
   "metadata": {},
   "outputs": [],
   "source": []
  }
 ],
 "metadata": {
  "kernelspec": {
   "display_name": "warmup",
   "language": "python",
   "name": "python3"
  },
  "language_info": {
   "codemirror_mode": {
    "name": "ipython",
    "version": 3
   },
   "file_extension": ".py",
   "mimetype": "text/x-python",
   "name": "python",
   "nbconvert_exporter": "python",
   "pygments_lexer": "ipython3",
   "version": "3.10.11"
  }
 },
 "nbformat": 4,
 "nbformat_minor": 2
}
