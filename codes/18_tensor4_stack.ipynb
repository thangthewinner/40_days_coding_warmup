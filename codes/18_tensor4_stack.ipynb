{
 "cells": [
  {
   "cell_type": "markdown",
   "metadata": {},
   "source": [
    "- Bài tập: Trong NLP, chúng ta cần loại bỏ 1 số từ không quan trọng (stopwords) ra khỏi câu để tránh gây nhiễu trong việc xử lý. Hãy loại bỏ các từ có trong stop_words = [\"I\", \"love\", \"and\", \"to\"] câu đầu vào \"I love AI and listen to music\". Hãy áp dụng List comprehension và For truyền thống để thực hiện"
   ]
  },
  {
   "cell_type": "code",
   "execution_count": 10,
   "metadata": {},
   "outputs": [
    {
     "data": {
      "text/plain": [
       "['AI', 'listen', 'music']"
      ]
     },
     "execution_count": 10,
     "metadata": {},
     "output_type": "execute_result"
    }
   ],
   "source": [
    "stop_words = [ \"I\" , \"love\" , \"and\" , \"to\" ]\n",
    "input = \" I love AI and listen to music \"\n",
    "output = [word for word in input.split() if word not in stop_words]\n",
    "output"
   ]
  },
  {
   "cell_type": "markdown",
   "metadata": {},
   "source": [
    "- Câu 1: Tạo mới hai Tuple: my_tuple1 = (2,3), my_tuple2 = (3,6) mỗi Tuple có 2 phần tử đại diện cho một vector trong không gian 2D."
   ]
  },
  {
   "cell_type": "code",
   "execution_count": 11,
   "metadata": {},
   "outputs": [
    {
     "data": {
      "text/plain": [
       "((2, 3), (3, 6))"
      ]
     },
     "execution_count": 11,
     "metadata": {},
     "output_type": "execute_result"
    }
   ],
   "source": [
    "my_tuple1 = (2, 3)\n",
    "my_tuple2 = (3, 6)\n",
    "\n",
    "my_tuple1, my_tuple2"
   ]
  },
  {
   "cell_type": "markdown",
   "metadata": {},
   "source": [
    "-  Câu 2: In ra kết quả của tổng và tích 2 vector trên."
   ]
  },
  {
   "cell_type": "code",
   "execution_count": 13,
   "metadata": {},
   "outputs": [
    {
     "data": {
      "text/plain": [
       "((5, 9), (6, 18))"
      ]
     },
     "execution_count": 13,
     "metadata": {},
     "output_type": "execute_result"
    }
   ],
   "source": [
    "result_vector1 = (my_tuple1[0] + my_tuple2[0], my_tuple1[1] + my_tuple2[1])\n",
    "result_vector2 = (my_tuple1[0] * my_tuple2[0], my_tuple1[1] * my_tuple2[1])\n",
    "\n",
    "result_vector1, result_vector2"
   ]
  },
  {
   "cell_type": "markdown",
   "metadata": {},
   "source": [
    "In ra kết quả của khoảng cách của hai vector trên theo công thức. Biết $distance(P, Q) = \\sqrt{(p_1 − q_1)^2 + (p_2 − q_2)^2 + . . . + (p_n − q_n)^2}$"
   ]
  },
  {
   "cell_type": "code",
   "execution_count": 14,
   "metadata": {},
   "outputs": [
    {
     "data": {
      "text/plain": [
       "3.1622776601683795"
      ]
     },
     "execution_count": 14,
     "metadata": {},
     "output_type": "execute_result"
    }
   ],
   "source": [
    "import math \n",
    "\n",
    "distance = math.sqrt((my_tuple1[0]-my_tuple2[0])**2 + (my_tuple1[1]-my_tuple2[1])**2)\n",
    "\n",
    "distance"
   ]
  },
  {
   "cell_type": "markdown",
   "metadata": {},
   "source": [
    "- In ra vị trí của phần tử có giá trị là 3 Sử dụng cú pháp: my_tuple.index(values) để trích xuất vị trí của giá trị cần tìm."
   ]
  },
  {
   "cell_type": "code",
   "execution_count": 16,
   "metadata": {},
   "outputs": [
    {
     "data": {
      "text/plain": [
       "(1, 0)"
      ]
     },
     "execution_count": 16,
     "metadata": {},
     "output_type": "execute_result"
    }
   ],
   "source": [
    "my_tuple1.index(3), my_tuple2.index(3)"
   ]
  },
  {
   "cell_type": "markdown",
   "metadata": {},
   "source": [
    "- Câu 1: Hãy viết chương trình tạo Numpy 2 array, Pytorch tensor với từ list 1 có giá trị [1, 2, 3], list 2 có giá trị [4, 5, 6]. Sau đó sử dụng hàm hstack để nối theo trục ngang và vstack để nối theo trục dọc?"
   ]
  },
  {
   "cell_type": "code",
   "execution_count": 1,
   "metadata": {},
   "outputs": [],
   "source": [
    "import numpy as np\n",
    "import torch \n",
    "import tensorflow as tf"
   ]
  },
  {
   "cell_type": "code",
   "execution_count": 4,
   "metadata": {},
   "outputs": [
    {
     "data": {
      "text/plain": [
       "(array([1, 2, 3]),\n",
       " array([4, 5, 6]),\n",
       " array([1, 2, 3, 4, 5, 6]),\n",
       " array([[1, 2, 3],\n",
       "        [4, 5, 6]]))"
      ]
     },
     "execution_count": 4,
     "metadata": {},
     "output_type": "execute_result"
    }
   ],
   "source": [
    "arr_1 = np.array([1, 2, 3])\n",
    "arr_2 = np.array([4, 5, 6])\n",
    "\n",
    "arr_3 = np.hstack((arr_1, arr_2))\n",
    "arr_4 = np.vstack((arr_1, arr_2))\n",
    "\n",
    "arr_1, arr_2, arr_3, arr_4"
   ]
  },
  {
   "cell_type": "code",
   "execution_count": 6,
   "metadata": {},
   "outputs": [
    {
     "data": {
      "text/plain": [
       "(tensor([1, 2, 3]),\n",
       " tensor([4, 5, 6]),\n",
       " tensor([1, 2, 3, 4, 5, 6]),\n",
       " tensor([[1, 2, 3],\n",
       "         [4, 5, 6]]))"
      ]
     },
     "execution_count": 6,
     "metadata": {},
     "output_type": "execute_result"
    }
   ],
   "source": [
    "tensor_1 = torch.tensor([1, 2, 3])\n",
    "tensor_2 = torch.tensor([4, 5, 6])\n",
    "\n",
    "tensor_3 = torch.hstack((tensor_1, tensor_2))\n",
    "tensor_4 = torch.vstack((tensor_1, tensor_2))\n",
    "\n",
    "tensor_1, tensor_2, tensor_3, tensor_4"
   ]
  },
  {
   "cell_type": "markdown",
   "metadata": {},
   "source": [
    "- Câu 2: Hãy viết chương trình tạo Numpy 2 array, Pytorch tensor, Tensorflow tensor từ list 2D là [[1 ,2 , 3] , [4 , 5 , 6]] và [[7 , 8 , 9] , [10 , 11 ,12]]. Sau đó sử dụng hàm concanate để nối theo trục ngang và vstack để nối theo trục dọc?"
   ]
  },
  {
   "cell_type": "code",
   "execution_count": 7,
   "metadata": {},
   "outputs": [
    {
     "data": {
      "text/plain": [
       "(array([[1, 2, 3],\n",
       "        [4, 5, 6]]),\n",
       " array([[ 7,  8,  9],\n",
       "        [10, 11, 12]]),\n",
       " array([[ 1,  2,  3],\n",
       "        [ 4,  5,  6],\n",
       "        [ 7,  8,  9],\n",
       "        [10, 11, 12]]),\n",
       " array([[ 1,  2,  3,  7,  8,  9],\n",
       "        [ 4,  5,  6, 10, 11, 12]]))"
      ]
     },
     "execution_count": 7,
     "metadata": {},
     "output_type": "execute_result"
    }
   ],
   "source": [
    "arr_1 = np.array([[1 , 2 , 3] ,[4 , 5 , 6]])\n",
    "arr_2 = np.array([[7 , 8 , 9] ,[10 , 11 , 12]])\n",
    "\n",
    "arr_3 = np.concatenate((arr_1, arr_2), axis=0)\n",
    "arr_4 = np.concatenate((arr_1, arr_2), axis=1)\n",
    "\n",
    "arr_1, arr_2, arr_3, arr_4"
   ]
  },
  {
   "cell_type": "code",
   "execution_count": 8,
   "metadata": {},
   "outputs": [
    {
     "data": {
      "text/plain": [
       "(tensor([[1, 2, 3],\n",
       "         [4, 5, 6]]),\n",
       " tensor([[ 7,  8,  9],\n",
       "         [10, 11, 12]]),\n",
       " tensor([[ 1,  2,  3],\n",
       "         [ 4,  5,  6],\n",
       "         [ 7,  8,  9],\n",
       "         [10, 11, 12]]),\n",
       " tensor([[ 1,  2,  3,  7,  8,  9],\n",
       "         [ 4,  5,  6, 10, 11, 12]]))"
      ]
     },
     "execution_count": 8,
     "metadata": {},
     "output_type": "execute_result"
    }
   ],
   "source": [
    "tensor_1 = torch.tensor([[1 , 2 , 3] ,[4 , 5 , 6]])\n",
    "tensor_2 = torch.tensor([[7 , 8 , 9] ,[10 , 11 , 12]])\n",
    "\n",
    "tensor_3 = torch.cat((tensor_1, tensor_2), dim=0)\n",
    "tensor_4 = torch.cat((tensor_1, tensor_2), dim=1)\n",
    "\n",
    "tensor_1, tensor_2, tensor_3, tensor_4"
   ]
  },
  {
   "cell_type": "code",
   "execution_count": 11,
   "metadata": {},
   "outputs": [
    {
     "data": {
      "text/plain": [
       "(<tf.Tensor: shape=(2, 3), dtype=int32, numpy=\n",
       " array([[1, 2, 3],\n",
       "        [4, 5, 6]])>,\n",
       " <tf.Tensor: shape=(2, 3), dtype=int32, numpy=\n",
       " array([[ 7,  8,  9],\n",
       "        [10, 11, 12]])>,\n",
       " <tf.Tensor: shape=(4, 3), dtype=int32, numpy=\n",
       " array([[ 1,  2,  3],\n",
       "        [ 4,  5,  6],\n",
       "        [ 7,  8,  9],\n",
       "        [10, 11, 12]])>,\n",
       " <tf.Tensor: shape=(2, 6), dtype=int32, numpy=\n",
       " array([[ 1,  2,  3,  7,  8,  9],\n",
       "        [ 4,  5,  6, 10, 11, 12]])>)"
      ]
     },
     "execution_count": 11,
     "metadata": {},
     "output_type": "execute_result"
    }
   ],
   "source": [
    "tensor_1 = tf.constant([[1 , 2 , 3] ,[4 , 5 , 6]])\n",
    "tensor_2 = tf.constant([[7 , 8 , 9] ,[10 , 11 , 12]])\n",
    "\n",
    "tensor_3 = tf.concat((tensor_1, tensor_2), axis=0)\n",
    "tensor_4 = tf.concat((tensor_1, tensor_2), axis=1)\n",
    "\n",
    "tensor_1, tensor_2, tensor_3, tensor_4"
   ]
  },
  {
   "cell_type": "code",
   "execution_count": null,
   "metadata": {},
   "outputs": [],
   "source": []
  }
 ],
 "metadata": {
  "kernelspec": {
   "display_name": "warmup",
   "language": "python",
   "name": "python3"
  },
  "language_info": {
   "codemirror_mode": {
    "name": "ipython",
    "version": 3
   },
   "file_extension": ".py",
   "mimetype": "text/x-python",
   "name": "python",
   "nbconvert_exporter": "python",
   "pygments_lexer": "ipython3",
   "version": "3.10.11"
  }
 },
 "nbformat": 4,
 "nbformat_minor": 2
}
