{
 "cells": [
  {
   "cell_type": "markdown",
   "metadata": {},
   "source": [
    "## if-else"
   ]
  },
  {
   "cell_type": "code",
   "execution_count": 2,
   "metadata": {},
   "outputs": [
    {
     "name": "stdout",
     "output_type": "stream",
     "text": [
      "Wake up\n"
     ]
    }
   ],
   "source": [
    "time = input(\"Input time: \")\n",
    "if time == \"5 AM\":\n",
    "    print(\"Wake up\")\n",
    "elif time == \"6 AM\":\n",
    "    print(\"Yoga\")\n",
    "elif time == \"7 AM\":\n",
    "    print(\"Work\")\n",
    "else:\n",
    "    print(\"Do something else\")"
   ]
  },
  {
   "cell_type": "markdown",
   "metadata": {},
   "source": [
    "## dictionary"
   ]
  },
  {
   "cell_type": "code",
   "execution_count": 3,
   "metadata": {},
   "outputs": [
    {
     "data": {
      "text/plain": [
       "'Do something else'"
      ]
     },
     "execution_count": 3,
     "metadata": {},
     "output_type": "execute_result"
    }
   ],
   "source": [
    "todo = {\"5 AM\": \"Wake up\",\n",
    "        \"6 AM\": \"Yoga\",\n",
    "        \"7 AM\": \"Work\"}\n",
    "\n",
    "time = input(\"Input time: \")\n",
    "todo.get(time, \"Do something else\")"
   ]
  },
  {
   "cell_type": "markdown",
   "metadata": {},
   "source": [
    "## match case"
   ]
  },
  {
   "cell_type": "code",
   "execution_count": 4,
   "metadata": {},
   "outputs": [
    {
     "name": "stdout",
     "output_type": "stream",
     "text": [
      "Work\n"
     ]
    }
   ],
   "source": [
    "time = input(\"Input time: \")\n",
    "match time:\n",
    "    case \"5 AM\":\n",
    "        print(\"Wake up\")\n",
    "    case \"6 AM\":\n",
    "        print(\"Yoga\")\n",
    "    case \"7 AM\":\n",
    "        print(\"Work\")\n",
    "    case _:\n",
    "        print(\"Do something else\")"
   ]
  },
  {
   "cell_type": "code",
   "execution_count": null,
   "metadata": {},
   "outputs": [],
   "source": []
  }
 ],
 "metadata": {
  "kernelspec": {
   "display_name": "warmup",
   "language": "python",
   "name": "python3"
  },
  "language_info": {
   "codemirror_mode": {
    "name": "ipython",
    "version": 3
   },
   "file_extension": ".py",
   "mimetype": "text/x-python",
   "name": "python",
   "nbconvert_exporter": "python",
   "pygments_lexer": "ipython3",
   "version": "3.10.11"
  }
 },
 "nbformat": 4,
 "nbformat_minor": 2
}
