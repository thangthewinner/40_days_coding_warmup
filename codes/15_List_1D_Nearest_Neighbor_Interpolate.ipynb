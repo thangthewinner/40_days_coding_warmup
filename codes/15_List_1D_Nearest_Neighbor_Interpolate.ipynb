{
 "cells": [
  {
   "cell_type": "code",
   "execution_count": 1,
   "metadata": {},
   "outputs": [],
   "source": [
    "def find_none_index(data):\n",
    "    result = -1\n",
    "\n",
    "    for i, v in enumerate(data):\n",
    "        if v == None:\n",
    "            result = i\n",
    "            break\n",
    "    return result"
   ]
  },
  {
   "cell_type": "code",
   "execution_count": null,
   "metadata": {},
   "outputs": [],
   "source": [
    "def find_end(data, index):\n",
    "    end = len(data)\n",
    "\n",
    "    for i in range(index+1, len(data), 1):\n",
    "        if data[i] != None:\n",
    "            end = i\n",
    "            break \n",
    "\n",
    "    return end"
   ]
  },
  {
   "cell_type": "code",
   "execution_count": null,
   "metadata": {},
   "outputs": [],
   "source": [
    "def interpolate_nearest_neighbor(data, none_position):\n",
    "    nearest_neighbor = None \n",
    "    nearest_distance = float('inf') \n",
    "    for index in range(len(data)):\n",
    "        if data[index] is not None and abs(index - none_position) < nearest_distance:\n",
    "            nearest_neighbor = data[index]\n",
    "            nearest_distance = abs(index - none_position)\n",
    "        \n",
    "    return nearest_neighbor"
   ]
  },
  {
   "cell_type": "code",
   "execution_count": 4,
   "metadata": {},
   "outputs": [],
   "source": [
    "def process_data(data):\n",
    "    while True: \n",
    "        index = find_none_index(data)\n",
    "        if index == -1:\n",
    "            break \n",
    "\n",
    "        # find begin\n",
    "        begin = index - 1\n",
    "\n",
    "        # find end \n",
    "        end = find_end(data, index)\n",
    "\n",
    "        if begin < 0:\n",
    "            y = data[end]\n",
    "        elif end >= len(data):\n",
    "            y = data[begin]\n",
    "        else:\n",
    "            y = interpolate_nearest_neighbor(data, index)\n",
    "\n",
    "        data[index] = y \n",
    "\n",
    "    return data"
   ]
  },
  {
   "cell_type": "code",
   "execution_count": 7,
   "metadata": {},
   "outputs": [
    {
     "data": {
      "text/plain": [
       "[1, 1.1, 1.1, 1.4, 1.4, 1.5, 1.5, 2.0]"
      ]
     },
     "execution_count": 7,
     "metadata": {},
     "output_type": "execute_result"
    }
   ],
   "source": [
    "data = [1, 1.1, None, 1.4, None, 1.5, None, 2.0]\n",
    "result = process_data(data)\n",
    "result"
   ]
  },
  {
   "cell_type": "code",
   "execution_count": null,
   "metadata": {},
   "outputs": [],
   "source": []
  }
 ],
 "metadata": {
  "kernelspec": {
   "display_name": "warmup",
   "language": "python",
   "name": "python3"
  },
  "language_info": {
   "codemirror_mode": {
    "name": "ipython",
    "version": 3
   },
   "file_extension": ".py",
   "mimetype": "text/x-python",
   "name": "python",
   "nbconvert_exporter": "python",
   "pygments_lexer": "ipython3",
   "version": "3.10.11"
  }
 },
 "nbformat": 4,
 "nbformat_minor": 2
}
