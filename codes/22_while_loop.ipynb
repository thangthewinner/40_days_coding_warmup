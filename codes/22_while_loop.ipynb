{
 "cells": [
  {
   "cell_type": "markdown",
   "metadata": {},
   "source": [
    "Dùng vòng lặp While.\n",
    "Chọn ngẫu nhiên hai số a và b thuộc từ 1 đến 20 sao cho tổng của a + b bằng 40, câu hỏi đặt ra rằng, chúng ta phải tạo ngẫu nhiên bao nhiêu lần để thỏa mản điều kiện trên ?"
   ]
  },
  {
   "cell_type": "code",
   "execution_count": 19,
   "metadata": {},
   "outputs": [],
   "source": [
    "import random \n",
    "\n",
    "def random_number_with_condition(total):\n",
    "    random.seed(0)\n",
    "    count = 0\n",
    "    while True:\n",
    "        count += 1\n",
    "        a = random.randint(1, 20)\n",
    "        b = random.randint(1, 20)\n",
    "        if a + b == total:\n",
    "            return f'random_number_with_condition({total}) --> {count}'"
   ]
  },
  {
   "cell_type": "code",
   "execution_count": 20,
   "metadata": {},
   "outputs": [
    {
     "data": {
      "text/plain": [
       "('random_number_with_condition(40) --> 266',\n",
       " 'random_number_with_condition(20) --> 32',\n",
       " 'random_number_with_condition(35) --> 96')"
      ]
     },
     "execution_count": 20,
     "metadata": {},
     "output_type": "execute_result"
    }
   ],
   "source": [
    "random_number_with_condition(40), random_number_with_condition(20), random_number_with_condition(35)"
   ]
  },
  {
   "cell_type": "markdown",
   "metadata": {},
   "source": [
    " Cài đặt hàm find_divisible_number(a) tìm số nguyên dương nhỏ nhất lớn hơn 100 và chia hết cho số nguyên dương a."
   ]
  },
  {
   "cell_type": "code",
   "execution_count": 29,
   "metadata": {},
   "outputs": [],
   "source": [
    "def find_divisible_number(a):\n",
    "    num = 101\n",
    "    while True:\n",
    "        if num % a == 0:\n",
    "            break\n",
    "        num += 1\n",
    "    return f'find_divisible_number({a}) --> {num}'"
   ]
  },
  {
   "cell_type": "code",
   "execution_count": 31,
   "metadata": {},
   "outputs": [
    {
     "data": {
      "text/plain": [
       "'find_divisible_number(5) --> 105'"
      ]
     },
     "execution_count": 31,
     "metadata": {},
     "output_type": "execute_result"
    }
   ],
   "source": [
    "find_divisible_number(5)"
   ]
  },
  {
   "cell_type": "code",
   "execution_count": 33,
   "metadata": {},
   "outputs": [
    {
     "data": {
      "text/plain": [
       "'find_divisible_number(17) --> 102'"
      ]
     },
     "execution_count": 33,
     "metadata": {},
     "output_type": "execute_result"
    }
   ],
   "source": [
    "find_divisible_number(17)"
   ]
  },
  {
   "cell_type": "markdown",
   "metadata": {},
   "source": [
    "Cài đặt hàm find_squared_root(a) tìm căn bậc hai cho một số a bất kì với ε = 0.001. Sử dụng Newton's Method."
   ]
  },
  {
   "cell_type": "code",
   "execution_count": null,
   "metadata": {},
   "outputs": [],
   "source": []
  }
 ],
 "metadata": {
  "kernelspec": {
   "display_name": "warmup",
   "language": "python",
   "name": "python3"
  },
  "language_info": {
   "codemirror_mode": {
    "name": "ipython",
    "version": 3
   },
   "file_extension": ".py",
   "mimetype": "text/x-python",
   "name": "python",
   "nbconvert_exporter": "python",
   "pygments_lexer": "ipython3",
   "version": "3.10.11"
  }
 },
 "nbformat": 4,
 "nbformat_minor": 2
}
