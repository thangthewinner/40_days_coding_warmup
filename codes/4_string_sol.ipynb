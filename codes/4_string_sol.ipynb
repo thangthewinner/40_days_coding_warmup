{
 "cells": [
  {
   "cell_type": "markdown",
   "metadata": {},
   "source": [
    "# f-string"
   ]
  },
  {
   "cell_type": "code",
   "execution_count": 1,
   "metadata": {},
   "outputs": [
    {
     "name": "stdout",
     "output_type": "stream",
     "text": [
      "Alice is a greate teacher!\n"
     ]
    }
   ],
   "source": [
    "name = 'Alice'\n",
    "print(f'{name} is a greate teacher!')"
   ]
  },
  {
   "cell_type": "code",
   "execution_count": 3,
   "metadata": {},
   "outputs": [
    {
     "name": "stdout",
     "output_type": "stream",
     "text": [
      "Title case: Ms Taylor\n",
      "Upper case: MS TAYLOR\n",
      "Lower case: ms taylor\n"
     ]
    }
   ],
   "source": [
    "name = 'Ms tAylor'\n",
    "print(f'Title case: {name.title()}')\n",
    "print(f'Upper case: {name.upper()}')\n",
    "print(f'Lower case: {name.lower()}')"
   ]
  },
  {
   "cell_type": "code",
   "execution_count": null,
   "metadata": {},
   "outputs": [],
   "source": []
  }
 ],
 "metadata": {
  "kernelspec": {
   "display_name": "warmup",
   "language": "python",
   "name": "python3"
  },
  "language_info": {
   "codemirror_mode": {
    "name": "ipython",
    "version": 3
   },
   "file_extension": ".py",
   "mimetype": "text/x-python",
   "name": "python",
   "nbconvert_exporter": "python",
   "pygments_lexer": "ipython3",
   "version": "3.10.11"
  }
 },
 "nbformat": 4,
 "nbformat_minor": 2
}
