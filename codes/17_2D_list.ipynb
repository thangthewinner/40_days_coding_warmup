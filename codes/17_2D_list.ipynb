{
 "cells": [
  {
   "cell_type": "markdown",
   "metadata": {},
   "source": [
    "- Tạo List 2D có tên là lst_data có dạng 3 x 3, gồm các số từ 1 đến 9, ứng với các vị trí trong List. Sau đó tạo list khác có tên lst_sub_data là 2D List để lưu giá trị tại vị trí index thứ 0 và thứ 2 của lst_data (Chỉ sử dụng For). In ra màn hình kết quả của lst_sub_data."
   ]
  },
  {
   "cell_type": "code",
   "execution_count": 20,
   "metadata": {},
   "outputs": [],
   "source": [
    "lst_data = [[1, 2, 3], [4, 5, 6], [7, 8, 9]]\n",
    "lst_sub_data = []"
   ]
  },
  {
   "cell_type": "code",
   "execution_count": 21,
   "metadata": {},
   "outputs": [
    {
     "data": {
      "text/plain": [
       "[[1, 3], [4, 6], [7, 9]]"
      ]
     },
     "execution_count": 21,
     "metadata": {},
     "output_type": "execute_result"
    }
   ],
   "source": [
    "for i in range(len(lst_data)):\n",
    "    lst_sub_data.append(lst_data[i][0:3:2])\n",
    "\n",
    "lst_sub_data"
   ]
  },
  {
   "cell_type": "markdown",
   "metadata": {},
   "source": [
    "Cho 2 ma trận sau: A =\n",
    "\n",
    "1 2 3\n",
    "\n",
    "4 5 6\n",
    "\n",
    "7 8 9\n",
    "\n",
    "và B =\n",
    "\n",
    "2 4 6\n",
    "\n",
    "1 3 5\n",
    "\n",
    "1 0 1"
   ]
  },
  {
   "cell_type": "markdown",
   "metadata": {},
   "source": [
    "Sử dụng Python, không dùng thư viện numpy."
   ]
  },
  {
   "cell_type": "code",
   "execution_count": 22,
   "metadata": {},
   "outputs": [],
   "source": [
    "A = [[1, 2, 3], [4, 5, 6], [7, 8, 9]]\n",
    "B = [[2, 4, 6], [1, 3, 5], [1, 0, 1]]"
   ]
  },
  {
   "cell_type": "markdown",
   "metadata": {},
   "source": [
    "- Câu 1. Hãy tính tổng và hiệu 2 ma trận A + B và A - B."
   ]
  },
  {
   "cell_type": "code",
   "execution_count": 24,
   "metadata": {},
   "outputs": [
    {
     "data": {
      "text/plain": [
       "([[3, 6, 9], [5, 8, 11], [8, 8, 10]], [[-1, -2, -3], [3, 2, 1], [6, 8, 8]])"
      ]
     },
     "execution_count": 24,
     "metadata": {},
     "output_type": "execute_result"
    }
   ],
   "source": [
    "sum_matrix = [[0] * len(A[0]) for _ in range(len(A))]\n",
    "diff_matrix = [[0] * len(A[0]) for _ in range(len(A))]\n",
    "\n",
    "for i in range(len(A)):\n",
    "    for j in range(len(A[0])):\n",
    "        sum_matrix[i][j] = A[i][j] + B[i][j]\n",
    "        diff_matrix[i][j] = A[i][j] - B[i][j]\n",
    "\n",
    "sum_matrix, diff_matrix"
   ]
  },
  {
   "cell_type": "markdown",
   "metadata": {},
   "source": [
    "- Hãy tính dot product 2 ma trận A và B."
   ]
  },
  {
   "cell_type": "code",
   "execution_count": 26,
   "metadata": {},
   "outputs": [
    {
     "data": {
      "text/plain": [
       "[[7, 10, 19], [19, 31, 55], [31, 52, 91]]"
      ]
     },
     "execution_count": 26,
     "metadata": {},
     "output_type": "execute_result"
    }
   ],
   "source": [
    "rows_A = len(A)\n",
    "cols_A = len(A[0])\n",
    "cols_B = len(B[0])\n",
    "\n",
    "C = [[0] * cols_B for _ in range(rows_A)]\n",
    "\n",
    "for i in range(rows_A):\n",
    "    for j in range(cols_B):\n",
    "        for k in range(cols_A): \n",
    "            C[i][j] += A[i][k] * B[k][j]\n",
    "\n",
    "C"
   ]
  },
  {
   "cell_type": "code",
   "execution_count": null,
   "metadata": {},
   "outputs": [],
   "source": []
  }
 ],
 "metadata": {
  "kernelspec": {
   "display_name": "warmup",
   "language": "python",
   "name": "python3"
  },
  "language_info": {
   "codemirror_mode": {
    "name": "ipython",
    "version": 3
   },
   "file_extension": ".py",
   "mimetype": "text/x-python",
   "name": "python",
   "nbconvert_exporter": "python",
   "pygments_lexer": "ipython3",
   "version": "3.10.11"
  }
 },
 "nbformat": 4,
 "nbformat_minor": 2
}
