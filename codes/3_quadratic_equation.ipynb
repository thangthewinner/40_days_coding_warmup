{
 "cells": [
  {
   "cell_type": "code",
   "execution_count": 1,
   "metadata": {},
   "outputs": [],
   "source": [
    "import math"
   ]
  },
  {
   "cell_type": "code",
   "execution_count": 2,
   "metadata": {},
   "outputs": [],
   "source": [
    "def quadratic_equation(a, b, c):\n",
    "    if a == 0: \n",
    "        if b == 0:\n",
    "            if c == 0:\n",
    "                print('Phương trình vô số nghiệm')\n",
    "            else:\n",
    "                print('Phương trình vô nghiệm')            \n",
    "        else:\n",
    "            x = -c/b\n",
    "            print(f'Nghiệm của phương trình là: {x}')      \n",
    "    else:\n",
    "        delta = b**2 - 4*a*c\n",
    "        \n",
    "        if delta < 0:\n",
    "            print('Phương trình vô nghiệm')\n",
    "        elif delta == 0:\n",
    "            x = -(b / (2*a))\n",
    "            print(f'Phương trình có nghiệm kép: {x}')\n",
    "        else:\n",
    "            x1 = (-b + math.sqrt(delta))/(2*a)\n",
    "            x2 = (-b - math.sqrt(delta))/(2*a)\n",
    "\n",
    "            print(f'Phương trình có 2 nghiệm phân biệt: x1={x1}, x2={x2}')"
   ]
  },
  {
   "cell_type": "code",
   "execution_count": 4,
   "metadata": {},
   "outputs": [
    {
     "name": "stdout",
     "output_type": "stream",
     "text": [
      "Nghiệm của phương trình là: -1.0\n"
     ]
    }
   ],
   "source": [
    "quadratic_equation(0,1,1)"
   ]
  },
  {
   "cell_type": "code",
   "execution_count": 5,
   "metadata": {},
   "outputs": [
    {
     "name": "stdout",
     "output_type": "stream",
     "text": [
      "Phương trình vô số nghiệm\n"
     ]
    }
   ],
   "source": [
    "quadratic_equation(0,0,0)"
   ]
  },
  {
   "cell_type": "code",
   "execution_count": 6,
   "metadata": {},
   "outputs": [
    {
     "name": "stdout",
     "output_type": "stream",
     "text": [
      "Phương trình vô nghiệm\n"
     ]
    }
   ],
   "source": [
    "quadratic_equation(4,6,4)"
   ]
  },
  {
   "cell_type": "code",
   "execution_count": null,
   "metadata": {},
   "outputs": [],
   "source": []
  }
 ],
 "metadata": {
  "kernelspec": {
   "display_name": "warmup",
   "language": "python",
   "name": "python3"
  },
  "language_info": {
   "codemirror_mode": {
    "name": "ipython",
    "version": 3
   },
   "file_extension": ".py",
   "mimetype": "text/x-python",
   "name": "python",
   "nbconvert_exporter": "python",
   "pygments_lexer": "ipython3",
   "version": "3.10.11"
  }
 },
 "nbformat": 4,
 "nbformat_minor": 2
}
