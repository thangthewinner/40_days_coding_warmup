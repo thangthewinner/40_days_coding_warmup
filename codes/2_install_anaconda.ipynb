{
 "cells": [
  {
   "cell_type": "markdown",
   "metadata": {},
   "source": [
    "# Install Anaconda"
   ]
  },
  {
   "cell_type": "markdown",
   "metadata": {},
   "source": [
    "Link: https://docs.anaconda.com/anaconda/install/"
   ]
  },
  {
   "cell_type": "markdown",
   "metadata": {},
   "source": [
    "- Display conda version: ```conda --version```\n",
    "- List environments: ```conda env list```\n",
    "- Create an environment: ```conda create --name my_python_env python=3.8``` \n",
    "- Activate an environment: ```conda activate my_python_env```"
   ]
  }
 ],
 "metadata": {
  "language_info": {
   "name": "python"
  }
 },
 "nbformat": 4,
 "nbformat_minor": 2
}
